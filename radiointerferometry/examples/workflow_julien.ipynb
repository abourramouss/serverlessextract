{
 "cells": [
  {
   "cell_type": "code",
   "execution_count": 1,
   "metadata": {},
   "outputs": [
    {
     "name": "stderr",
     "output_type": "stream",
     "text": [
      "2024-06-26 15:09:05 [INFO] Started StaticPartitioner\n",
      "2024-06-26 15:09:05,008 [INFO] config.py:139 -- Lithops v3.4.1 - Python3.10\n",
      "2024-06-26 15:09:06,945 [INFO] minio.py:62 -- MinIO client created - Endpoint: http://192.168.5.24:9000\n",
      "2024-06-26 15:09:06,979 [INFO] k8s.py:111 -- Kubernetes client created - Namespace: default\n"
     ]
    },
    {
     "name": "stdout",
     "output_type": "stream",
     "text": [
      "Initialized InputS3 with bucket: os-10gb, key: CYGLOOP2024/20240312_081800_20240312_084100_CYGLOOP_CYGA/, file_ext: None, dynamic: False, base_local_path: /tmp\n"
     ]
    }
   ],
   "source": [
    "import time\n",
    "import logging\n",
    "import lithops\n",
    "from radiointerferometry.utils import setup_logging, get_executor_id_lithops\n",
    "from radiointerferometry.steps.imaging import ImagingStep\n",
    "from radiointerferometry.steps.pipelinestep import DP3Step\n",
    "from radiointerferometry.datasource import InputS3, OutputS3\n",
    "from radiointerferometry.partitioning import StaticPartitioner\n",
    "\n",
    "\n",
    "# Logger setup\n",
    "LOG_LEVEL = logging.INFO\n",
    "logger = setup_logging(LOG_LEVEL)\n",
    "partitioner = StaticPartitioner(log_level=LOG_LEVEL)\n",
    "\n",
    "BUCKET = \"os-10gb\"\n",
    "RACK_BUCKET = \"os-10gb\"\n",
    "\n",
    "def prepend_hash_to_key(key: str) -> str:\n",
    "    #print(f\"Executor ID: {get_executor_id_lithops()}\")\n",
    "    return f\"440531/{key}\"\n",
    "\n",
    "\n",
    "fexec = lithops.FunctionExecutor(\n",
    "    log_level=LOG_LEVEL, runtime_memory=2048, runtime_cpu=4\n",
    ")\n",
    "\n",
    "# Input ms's are stored here\n",
    "inputs = InputS3(bucket=BUCKET, key=\"CYGLOOP2024/20240312_081800_20240312_084100_CYGLOOP_CYGA/\")\n",
    "\n"
   ]
  },
  {
   "cell_type": "code",
   "execution_count": 2,
   "metadata": {},
   "outputs": [
    {
     "name": "stderr",
     "output_type": "stream",
     "text": [
      "2024-06-26 15:09:07,002 [INFO] config.py:139 -- Lithops v3.4.1 - Python3.10\n",
      "2024-06-26 15:09:07,015 [INFO] minio.py:62 -- MinIO client created - Endpoint: http://192.168.5.24:9000\n",
      "2024-06-26 15:09:07,046 [INFO] k8s.py:111 -- Kubernetes client created - Namespace: default\n",
      "2024-06-26 15:09:07,059 [INFO] minio.py:62 -- MinIO client created - Endpoint: http://192.168.5.24:9000\n",
      "2024-06-26 15:09:07 [INFO] keys : ['CYGLOOP2024/20240312_081800_20240312_084100_CYGLOOP_CYGA/SB220.MS.zip']\n",
      "2024-06-26 15:09:07,107 [INFO] minio.py:62 -- MinIO client created - Endpoint: http://192.168.5.24:9000\n",
      "2024-06-26 15:09:07 [INFO] New output path: 440531/CAL/rebinning_out/ms/SB220.ms\n",
      "2024-06-26 15:09:07 [INFO] New output path: 440531/CAL/rebinning_out/logs/SB220.log\n",
      "2024-06-26 15:09:07 [INFO] Function params: [[{'msin': /tmp/os-10gb/CYGLOOP2024/20240312_081800_20240312_084100_CYGLOOP_CYGA/SB220.MS.zip, 'steps': '[aoflag, avg, count]', 'aoflag.type': 'aoflagger', 'aoflag.strategy': /tmp/os-10gb/parameters/rebinning/STEP1-NenuFAR64C1S.lua, 'avg.type': 'averager', 'avg.freqstep': 5, 'avg.timestep': 2, 'msout': OutputS3(bucket=os-10gb, key=440531/CAL/rebinning_out/ms/SB220.ms, file_ext=None, file_name=None, remote_key_ow=None, base_local_path=/tmp), 'numthreads': 4, 'log_output': OutputS3(bucket=os-10gb, key=440531/CAL/rebinning_out/logs/SB220.log, file_ext=None, file_name=None, remote_key_ow=None, base_local_path=/tmp)}]] and length 1\n",
      "2024-06-26 15:09:07,123 [INFO] invokers.py:107 -- ExecutorID 37a208-1 | JobID M000 - Selected Runtime: docker.io/ayman321/extractdysco3 - 4096MB\n"
     ]
    },
    {
     "name": "stdout",
     "output_type": "stream",
     "text": [
      "Initialized InputS3 with bucket: os-10gb, key: parameters/rebinning/STEP1-NenuFAR64C1S.lua, file_ext: None, dynamic: False, base_local_path: /tmp\n",
      "Initialized OutputS3 with bucket: os-10gb, key: 440531/CAL/rebinning_out/ms, file_ext: ms, file_name: None, remote_key_ow: None, base_local_path: /tmp\n",
      "Initialized OutputS3 with bucket: os-10gb, key: 440531/CAL/rebinning_out/logs, file_ext: log, file_name: None, remote_key_ow: None, base_local_path: /tmp\n",
      "Initialized InputS3 with bucket: os-10gb, key: CYGLOOP2024/20240312_081800_20240312_084100_CYGLOOP_CYGA/SB220.MS.zip, file_ext: None, dynamic: False, base_local_path: /tmp\n",
      "Initialized OutputS3 with bucket: os-10gb, key: 440531/CAL/rebinning_out/ms/SB220.ms, file_ext: None, file_name: None, remote_key_ow: None, base_local_path: /tmp\n",
      "Initialized OutputS3 with bucket: os-10gb, key: 440531/CAL/rebinning_out/logs/SB220.log, file_ext: None, file_name: None, remote_key_ow: None, base_local_path: /tmp\n"
     ]
    },
    {
     "name": "stderr",
     "output_type": "stream",
     "text": [
      "2024-06-26 15:09:08,333 [INFO] invokers.py:174 -- ExecutorID 37a208-1 | JobID M000 - Starting function invocation: _execute_step() - Total: 1 activations\n",
      "2024-06-26 15:09:08,443 [INFO] invokers.py:213 -- ExecutorID 37a208-1 | JobID M000 - View execution logs at /tmp/lithops-ayman/logs/37a208-1-M000.log\n",
      "2024-06-26 15:09:08,446 [INFO] executors.py:491 -- ExecutorID 37a208-1 - Getting results from 1 function activations\n",
      "2024-06-26 15:09:08,446 [INFO] wait.py:101 -- ExecutorID 37a208-1 - Waiting for 1 function activations to complete\n",
      "/usr/local/lib/python3.10/dist-packages/tqdm-4.66.1-py3.10.egg/tqdm/auto.py:21: TqdmWarning: IProgress not found. Please update jupyter and ipywidgets. See https://ipywidgets.readthedocs.io/en/stable/user_install.html\n",
      "  from .autonotebook import tqdm as notebook_tqdm\n",
      "2024-06-26 15:09:25,523 [INFO] executors.py:615 -- ExecutorID 37a208-1 - Cleaning temporary data\n",
      "2024-06-26 15:09:25 [INFO] CAL Rebinning completed in 18.52946138381958 seconds.\n"
     ]
    }
   ],
   "source": [
    "# Workflow is described like this:\n",
    "# CALIBRATOR:  [FLAG&REBIN] -> [CALIBRATION] -> (caltables HDF5 files)\n",
    "# TARGET: [FLAG&REBIN] -> [CALIBRATION (APPLYCAL ONLY)] -> [IMAGING]\n",
    "\n",
    "# Rebinning parameters with hash included in the key as a root directory, notice how we use the result from the partitioning step\n",
    "\n",
    "# CALIBRATOR REBINNING PARAMS\n",
    "CAL_rebinning_params = {\n",
    "    \"msin\": inputs,\n",
    "    \"steps\": \"[aoflag, avg, count]\",\n",
    "    \"aoflag.type\": \"aoflagger\",\n",
    "    \"aoflag.strategy\": InputS3(\n",
    "        bucket=BUCKET,\n",
    "        key=\"parameters/rebinning/STEP1-NenuFAR64C1S.lua\",\n",
    "    ),\n",
    "    \"avg.type\": \"averager\",\n",
    "    \"avg.freqstep\": 5,\n",
    "    \"avg.timestep\": 2,\n",
    "    \"msout\": OutputS3(\n",
    "        bucket=BUCKET,\n",
    "        key=prepend_hash_to_key(\"CAL/rebinning_out/ms\"),\n",
    "        file_ext=\"ms\",\n",
    "    ),\n",
    "    \"numthreads\": 4,\n",
    "    \"log_output\": OutputS3(\n",
    "        bucket=BUCKET,\n",
    "        key=prepend_hash_to_key(\"CAL/rebinning_out/logs\"),\n",
    "        file_ext=\"log\",\n",
    "    ),\n",
    "}\n",
    "\n",
    "\n",
    " # CALIBRATOR REBINNING\n",
    "start_time = time.time()\n",
    "finished_job = DP3Step(\n",
    "    parameters=CAL_rebinning_params,\n",
    "    log_level=LOG_LEVEL\n",
    ").run(func_limit=1)\n",
    "\n",
    "end_time = time.time()\n",
    "logger.info(f\"CAL Rebinning completed in {end_time - start_time} seconds.\")\n"
   ]
  },
  {
   "cell_type": "code",
   "execution_count": 3,
   "metadata": {},
   "outputs": [
    {
     "name": "stderr",
     "output_type": "stream",
     "text": [
      "2024-06-26 15:09:25,554 [INFO] config.py:139 -- Lithops v3.4.1 - Python3.10\n",
      "2024-06-26 15:09:25,569 [INFO] minio.py:62 -- MinIO client created - Endpoint: http://192.168.5.24:9000\n"
     ]
    },
    {
     "name": "stderr",
     "output_type": "stream",
     "text": [
      "2024-06-26 15:09:25,604 [INFO] k8s.py:111 -- Kubernetes client created - Namespace: default\n",
      "2024-06-26 15:09:25,617 [INFO] minio.py:62 -- MinIO client created - Endpoint: http://192.168.5.24:9000\n",
      "2024-06-26 15:09:25 [INFO] keys : ['440531/CAL/rebinning_out/ms/SB220.ms.zip']\n",
      "2024-06-26 15:09:25,642 [INFO] minio.py:62 -- MinIO client created - Endpoint: http://192.168.5.24:9000\n",
      "2024-06-26 15:09:25 [INFO] New output path: 440531/CAL/calibration_out/h5/SB220.h5\n",
      "2024-06-26 15:09:25 [INFO] New output path: 440531/CAL/calibration_out/logs/SB220.log\n",
      "2024-06-26 15:09:25 [INFO] Function params: [[{'msin': /tmp/os-10gb/440531/CAL/rebinning_out/ms/SB220.ms.zip, 'msin.datacolumn': 'DATA', 'msout': '.', 'steps': '[cal]', 'cal.type': 'gaincal', 'cal.caltype': 'diagonal', 'cal.sourcedb': /tmp/os-10gb/parameters/calibration/CAL.sourcedb, 'cal.parmdb': OutputS3(bucket=os-10gb, key=440531/CAL/calibration_out/h5/SB220.h5, file_ext=None, file_name=None, remote_key_ow=None, base_local_path=/tmp), 'cal.solint': 0, 'cal.nchan': 1, 'cal.maxiter': 50, 'cal.uvlambdamin': 5, 'cal.smoothnessconstraint': 2000000.0, 'numthreads': 4, 'log_output': OutputS3(bucket=os-10gb, key=440531/CAL/calibration_out/logs/SB220.log, file_ext=None, file_name=None, remote_key_ow=None, base_local_path=/tmp)}]] and length 1\n",
      "2024-06-26 15:09:25,657 [INFO] invokers.py:107 -- ExecutorID 37a208-2 | JobID M000 - Selected Runtime: docker.io/ayman321/extractdysco3 - 4096MB\n"
     ]
    },
    {
     "name": "stdout",
     "output_type": "stream",
     "text": [
      "Initialized InputS3 with bucket: os-10gb, key: 440531/CAL/rebinning_out/ms, file_ext: None, dynamic: False, base_local_path: /tmp\n",
      "Initialized InputS3 with bucket: os-10gb, key: parameters/calibration/CAL.sourcedb, file_ext: None, dynamic: False, base_local_path: /tmp\n",
      "Initialized OutputS3 with bucket: os-10gb, key: 440531/CAL/calibration_out/h5, file_ext: h5, file_name: None, remote_key_ow: None, base_local_path: /tmp\n",
      "Initialized OutputS3 with bucket: os-10gb, key: 440531/CAL/calibration_out/logs, file_ext: log, file_name: None, remote_key_ow: None, base_local_path: /tmp\n",
      "Initialized InputS3 with bucket: os-10gb, key: 440531/CAL/rebinning_out/ms/SB220.ms.zip, file_ext: None, dynamic: False, base_local_path: /tmp\n",
      "Initialized OutputS3 with bucket: os-10gb, key: 440531/CAL/calibration_out/h5/SB220.h5, file_ext: None, file_name: None, remote_key_ow: None, base_local_path: /tmp\n",
      "Initialized OutputS3 with bucket: os-10gb, key: 440531/CAL/calibration_out/logs/SB220.log, file_ext: None, file_name: None, remote_key_ow: None, base_local_path: /tmp\n"
     ]
    },
    {
     "name": "stderr",
     "output_type": "stream",
     "text": [
      "2024-06-26 15:09:26,749 [INFO] invokers.py:174 -- ExecutorID 37a208-2 | JobID M000 - Starting function invocation: _execute_step() - Total: 1 activations\n",
      "2024-06-26 15:09:26,865 [INFO] invokers.py:213 -- ExecutorID 37a208-2 | JobID M000 - View execution logs at /tmp/lithops-ayman/logs/37a208-2-M000.log\n",
      "2024-06-26 15:09:26,870 [INFO] executors.py:491 -- ExecutorID 37a208-2 - Getting results from 1 function activations\n",
      "2024-06-26 15:09:26,871 [INFO] wait.py:101 -- ExecutorID 37a208-2 - Waiting for 1 function activations to complete\n",
      "2024-06-26 15:09:35,898 [INFO] executors.py:615 -- ExecutorID 37a208-2 - Cleaning temporary data\n",
      "2024-06-26 15:09:35 [INFO] CAL Calibration completed in 10.34995722770691 seconds.\n"
     ]
    }
   ],
   "source": [
    "CAL_calibration_params = {\n",
    "    \"msin\": InputS3(\n",
    "        bucket=BUCKET,\n",
    "        key=prepend_hash_to_key(\"CAL/rebinning_out/ms\"),\n",
    "    ),\n",
    "    \"msin.datacolumn\": \"DATA\",\n",
    "    \"msout\": \".\",\n",
    "    \"steps\": \"[cal]\",\n",
    "    \"cal.type\": \"gaincal\",\n",
    "    \"cal.caltype\": \"diagonal\",\n",
    "    \"cal.sourcedb\": InputS3(\n",
    "        bucket=BUCKET,\n",
    "        key=\"parameters/calibration/CAL.sourcedb\",\n",
    "    ),\n",
    "    \"cal.parmdb\": OutputS3(\n",
    "        bucket=BUCKET,\n",
    "        key=prepend_hash_to_key(\"CAL/calibration_out/h5\"),\n",
    "        file_ext=\"h5\",\n",
    "    ),\n",
    "    \"cal.solint\": 0, # means 1 solution for all time steps  \n",
    "    \"cal.nchan\": 1, # means 1 solution per channel\n",
    "    \"cal.maxiter\": 50,\n",
    "    \"cal.uvlambdamin\": 5,\n",
    "    \"cal.smoothnessconstraint\": 2e6,\n",
    "    \"numthreads\": 4,\n",
    "    \"log_output\": OutputS3(\n",
    "        bucket=BUCKET,\n",
    "        key=prepend_hash_to_key(\"CAL/calibration_out/logs\"),\n",
    "        file_ext=\"log\",\n",
    "    ),\n",
    "}\n",
    "\n",
    "# CALIBRATOR CALIBRATION\n",
    "start_time = time.time()\n",
    "\n",
    "finished_job = DP3Step(\n",
    "    parameters=CAL_calibration_params,\n",
    "    log_level=LOG_LEVEL\n",
    ").run(func_limit=1)\n",
    "\n",
    "end_time = time.time()\n",
    "logger.info(f\"CAL Calibration completed in {end_time - start_time} seconds.\")"
   ]
  },
  {
   "cell_type": "code",
   "execution_count": 4,
   "metadata": {},
   "outputs": [
    {
     "name": "stderr",
     "output_type": "stream",
     "text": [
      "2024-06-26 15:09:35,924 [INFO] config.py:139 -- Lithops v3.4.1 - Python3.10\n",
      "2024-06-26 15:09:35,938 [INFO] minio.py:62 -- MinIO client created - Endpoint: http://192.168.5.24:9000\n",
      "2024-06-26 15:09:35,969 [INFO] k8s.py:111 -- Kubernetes client created - Namespace: default\n",
      "2024-06-26 15:09:35,983 [INFO] minio.py:62 -- MinIO client created - Endpoint: http://192.168.5.24:9000\n",
      "2024-06-26 15:09:36 [INFO] keys : ['CYGLOOP2024/20240312_084100_20240312_100000_CYGLOOP_TARGET/SB220.MS.zip']\n",
      "2024-06-26 15:09:36,017 [INFO] minio.py:62 -- MinIO client created - Endpoint: http://192.168.5.24:9000\n",
      "2024-06-26 15:09:36 [INFO] New output path: 440531/TAR/rebinning_out/ms/SB220.ms\n",
      "2024-06-26 15:09:36 [INFO] New output path: 440531/TAR/rebinning_out/logs/SB220.log\n",
      "2024-06-26 15:09:36 [INFO] Function params: [[{'msin': /tmp/os-10gb/CYGLOOP2024/20240312_084100_20240312_100000_CYGLOOP_TARGET/SB220.MS.zip, 'steps': '[aoflag, avg, count]', 'aoflag.type': 'aoflagger', 'aoflag.strategy': /tmp/os-10gb/parameters/rebinning/STEP1-NenuFAR64C1S.lua, 'avg.type': 'averager', 'avg.freqstep': 5, 'avg.timestep': 2, 'msout': OutputS3(bucket=os-10gb, key=440531/TAR/rebinning_out/ms/SB220.ms, file_ext=None, file_name=None, remote_key_ow=None, base_local_path=/tmp), 'numthreads': 4, 'log_output': OutputS3(bucket=os-10gb, key=440531/TAR/rebinning_out/logs/SB220.log, file_ext=None, file_name=None, remote_key_ow=None, base_local_path=/tmp)}]] and length 1\n",
      "2024-06-26 15:09:36,037 [INFO] invokers.py:107 -- ExecutorID 37a208-3 | JobID M000 - Selected Runtime: docker.io/ayman321/extractdysco3 - 4096MB\n"
     ]
    },
    {
     "name": "stdout",
     "output_type": "stream",
     "text": [
      "Initialized InputS3 with bucket: os-10gb, key: CYGLOOP2024/20240312_084100_20240312_100000_CYGLOOP_TARGET/, file_ext: None, dynamic: False, base_local_path: /tmp\n",
      "Initialized InputS3 with bucket: os-10gb, key: parameters/rebinning/STEP1-NenuFAR64C1S.lua, file_ext: None, dynamic: False, base_local_path: /tmp\n",
      "Initialized OutputS3 with bucket: os-10gb, key: 440531/TAR/rebinning_out/ms, file_ext: ms, file_name: None, remote_key_ow: None, base_local_path: /tmp\n",
      "Initialized OutputS3 with bucket: os-10gb, key: 440531/TAR/rebinning_out/logs, file_ext: log, file_name: None, remote_key_ow: None, base_local_path: /tmp\n",
      "Initialized InputS3 with bucket: os-10gb, key: CYGLOOP2024/20240312_084100_20240312_100000_CYGLOOP_TARGET/SB220.MS.zip, file_ext: None, dynamic: False, base_local_path: /tmp\n",
      "Initialized OutputS3 with bucket: os-10gb, key: 440531/TAR/rebinning_out/ms/SB220.ms, file_ext: None, file_name: None, remote_key_ow: None, base_local_path: /tmp\n",
      "Initialized OutputS3 with bucket: os-10gb, key: 440531/TAR/rebinning_out/logs/SB220.log, file_ext: None, file_name: None, remote_key_ow: None, base_local_path: /tmp\n"
     ]
    },
    {
     "name": "stderr",
     "output_type": "stream",
     "text": [
      "2024-06-26 15:09:37,052 [INFO] invokers.py:174 -- ExecutorID 37a208-3 | JobID M000 - Starting function invocation: _execute_step() - Total: 1 activations\n",
      "2024-06-26 15:09:37,165 [INFO] invokers.py:213 -- ExecutorID 37a208-3 | JobID M000 - View execution logs at /tmp/lithops-ayman/logs/37a208-3-M000.log\n",
      "2024-06-26 15:09:37,168 [INFO] executors.py:491 -- ExecutorID 37a208-3 - Getting results from 1 function activations\n",
      "2024-06-26 15:09:37,170 [INFO] wait.py:101 -- ExecutorID 37a208-3 - Waiting for 1 function activations to complete\n",
      "2024-06-26 15:10:18,244 [INFO] executors.py:615 -- ExecutorID 37a208-3 - Cleaning temporary data\n",
      "2024-06-26 15:10:18 [INFO] TARGET Rebinning completed in 42.32728862762451 seconds.\n"
     ]
    }
   ],
   "source": [
    "inputs_tar = InputS3(bucket=BUCKET, key=\"CYGLOOP2024/20240312_084100_20240312_100000_CYGLOOP_TARGET/\")\n",
    "\n",
    "\n",
    "\n",
    "# TARGET REBINNING PARAMS\n",
    "TARGET_rebinning_params = {\n",
    "    \"msin\": inputs_tar,\n",
    "    \"steps\": \"[aoflag, avg, count]\",\n",
    "    \"aoflag.type\": \"aoflagger\",\n",
    "    \"aoflag.strategy\": InputS3(\n",
    "        bucket=BUCKET,\n",
    "        key=\"parameters/rebinning/STEP1-NenuFAR64C1S.lua\",\n",
    "    ),\n",
    "    \"avg.type\": \"averager\",\n",
    "    \"avg.freqstep\": 5, # averaging 5 channels\n",
    "    \"avg.timestep\": 2, # averaging 2 times samples\n",
    "    \"msout\": OutputS3(\n",
    "        bucket=BUCKET,\n",
    "        key=prepend_hash_to_key(\"TAR/rebinning_out/ms\"),\n",
    "        file_ext=\"ms\",\n",
    "    ),\n",
    "    \"numthreads\": 4,\n",
    "    \"log_output\": OutputS3(\n",
    "        bucket=BUCKET,\n",
    "        key=prepend_hash_to_key(\"TAR/rebinning_out/logs\"),\n",
    "        file_ext=\"log\",\n",
    "    ),\n",
    "}\n",
    "\n",
    "# TARGET REBINNING\n",
    "start_time = time.time()\n",
    "finished_job = DP3Step(\n",
    "    parameters=TARGET_rebinning_params,\n",
    "    log_level=LOG_LEVEL\n",
    ").run(func_limit=1)\n",
    "\n",
    "end_time = time.time()\n",
    "logger.info(f\"TARGET Rebinning completed in {end_time - start_time} seconds.\")"
   ]
  },
  {
   "cell_type": "code",
   "execution_count": 5,
   "metadata": {},
   "outputs": [
    {
     "name": "stderr",
     "output_type": "stream",
     "text": [
      "2024-06-26 15:10:18,276 [INFO] config.py:139 -- Lithops v3.4.1 - Python3.10\n",
      "2024-06-26 15:10:18,290 [INFO] minio.py:62 -- MinIO client created - Endpoint: http://192.168.5.24:9000\n",
      "2024-06-26 15:10:18,320 [INFO] k8s.py:111 -- Kubernetes client created - Namespace: default\n",
      "2024-06-26 15:10:18,334 [INFO] minio.py:62 -- MinIO client created - Endpoint: http://192.168.5.24:9000\n",
      "2024-06-26 15:10:18 [INFO] keys : ['440531/TAR/rebinning_out/ms/SB220.ms.zip']\n",
      "2024-06-26 15:10:18,359 [INFO] minio.py:62 -- MinIO client created - Endpoint: http://192.168.5.24:9000\n",
      "2024-06-26 15:10:18 [INFO] New output path: 440531/TAR/rebinning_out/ms/SB220.ms\n",
      "2024-06-26 15:10:18 [INFO] New output path: 440531/TAR/applycal_out/logs/SB220.log\n",
      "2024-06-26 15:10:18 [INFO] Function params: [[{'msin': /tmp/os-10gb/440531/TAR/rebinning_out/ms/SB220.ms.zip, 'msin.datacolumn': 'DATA', 'msout': OutputS3(bucket=os-10gb, key=440531/TAR/rebinning_out/ms/SB220.ms, file_ext=None, file_name=None, remote_key_ow=440531/TAR/applycal_out/ms, base_local_path=/tmp), 'msout.datacolumn': 'CORRECTED_DATA', 'steps': '[apply]', 'apply.type': 'applycal', 'apply.steps': '[apply_amp,apply_phase]', 'apply.apply_amp.correction': 'amplitude000', 'apply.apply_phase.correction': 'phase000', 'apply.direction': '[Main]', 'apply.parmdb': /tmp/os-10gb/440531/CAL/calibration_out/h5/SB220.h5, 'log_output': OutputS3(bucket=os-10gb, key=440531/TAR/applycal_out/logs/SB220.log, file_ext=None, file_name=None, remote_key_ow=None, base_local_path=/tmp)}]] and length 1\n",
      "2024-06-26 15:10:18,374 [INFO] invokers.py:107 -- ExecutorID 37a208-4 | JobID M000 - Selected Runtime: docker.io/ayman321/extractdysco3 - 4096MB\n"
     ]
    },
    {
     "name": "stdout",
     "output_type": "stream",
     "text": [
      "Initialized InputS3 with bucket: os-10gb, key: 440531/TAR/rebinning_out/ms, file_ext: None, dynamic: False, base_local_path: /tmp\n",
      "Initialized OutputS3 with bucket: os-10gb, key: 440531/TAR/rebinning_out/ms, file_ext: ms, file_name: None, remote_key_ow: 440531/TAR/applycal_out/ms, base_local_path: /tmp\n",
      "Initialized InputS3 with bucket: os-10gb, key: 440531/CAL/calibration_out/h5, file_ext: h5, dynamic: True, base_local_path: /tmp\n",
      "Initialized OutputS3 with bucket: os-10gb, key: 440531/TAR/applycal_out/logs, file_ext: log, file_name: None, remote_key_ow: None, base_local_path: /tmp\n",
      "Initialized InputS3 with bucket: os-10gb, key: 440531/TAR/rebinning_out/ms/SB220.ms.zip, file_ext: None, dynamic: False, base_local_path: /tmp\n",
      "Initialized OutputS3 with bucket: os-10gb, key: 440531/TAR/rebinning_out/ms/SB220.ms, file_ext: None, file_name: None, remote_key_ow: 440531/TAR/applycal_out/ms, base_local_path: /tmp\n",
      "Initialized InputS3 with bucket: os-10gb, key: 440531/CAL/calibration_out/h5/SB220.h5, file_ext: None, dynamic: False, base_local_path: /tmp\n",
      "Initialized OutputS3 with bucket: os-10gb, key: 440531/TAR/applycal_out/logs/SB220.log, file_ext: None, file_name: None, remote_key_ow: None, base_local_path: /tmp\n"
     ]
    },
    {
     "name": "stderr",
     "output_type": "stream",
     "text": [
      "2024-06-26 15:10:19,271 [INFO] invokers.py:174 -- ExecutorID 37a208-4 | JobID M000 - Starting function invocation: _execute_step() - Total: 1 activations\n",
      "2024-06-26 15:10:19,373 [INFO] invokers.py:213 -- ExecutorID 37a208-4 | JobID M000 - View execution logs at /tmp/lithops-ayman/logs/37a208-4-M000.log\n",
      "2024-06-26 15:10:19,375 [INFO] executors.py:491 -- ExecutorID 37a208-4 - Getting results from 1 function activations\n",
      "2024-06-26 15:10:19,376 [INFO] wait.py:101 -- ExecutorID 37a208-4 - Waiting for 1 function activations to complete\n",
      "2024-06-26 15:11:00,444 [INFO] executors.py:615 -- ExecutorID 37a208-4 - Cleaning temporary data\n",
      "2024-06-26 15:11:00 [INFO] target Calibration completed in 42.17457437515259 seconds.\n"
     ]
    }
   ],
   "source": [
    "TARGET_apply_calibration = {\n",
    "    \"msin\": InputS3(bucket=BUCKET, key=prepend_hash_to_key(\"TAR/rebinning_out/ms\")),\n",
    "    \"msin.datacolumn\": \"DATA\",\n",
    "    \"msout\": OutputS3(\n",
    "       bucket=BUCKET,\n",
    "       key=prepend_hash_to_key(\"TAR/rebinning_out/ms\"),\n",
    "       file_ext=\"ms\",\n",
    "       remote_key_ow=prepend_hash_to_key(\"TAR/applycal_out/ms\"),\n",
    "    ),\n",
    "    \"msout.datacolumn\": \"CORRECTED_DATA\",\n",
    "    \"steps\": \"[apply]\",\n",
    "    \"apply.type\": \"applycal\",\n",
    "    \"apply.steps\": \"[apply_amp,apply_phase]\",\n",
    "    \"apply.apply_amp.correction\": \"amplitude000\",\n",
    "    \"apply.apply_phase.correction\": \"phase000\",\n",
    "    \"apply.direction\": \"[Main]\",\n",
    "    \"apply.parmdb\": InputS3(\n",
    "        bucket=BUCKET,\n",
    "        key=prepend_hash_to_key(\"CAL/calibration_out/h5\"),\n",
    "        dynamic=True,\n",
    "        file_ext=\"h5\",\n",
    "    ),\n",
    "    \"log_output\": OutputS3(\n",
    "        bucket=BUCKET,\n",
    "        key=prepend_hash_to_key(\"TAR/applycal_out/logs\"),\n",
    "        file_ext=\"log\",\n",
    "    ),\n",
    "}\n",
    "\n",
    "\n",
    "# TARGET CALIBRATION (APPLY)\n",
    "start_time = time.time()\n",
    "finished_job = DP3Step(\n",
    "    parameters=TARGET_apply_calibration,\n",
    "    log_level=LOG_LEVEL\n",
    ").run(func_limit=1)\n",
    "\n",
    "end_time = time.time()\n",
    "logger.info(f\"target Calibration completed in {end_time - start_time} seconds.\")"
   ]
  },
  {
   "cell_type": "code",
   "execution_count": 6,
   "metadata": {},
   "outputs": [
    {
     "name": "stderr",
     "output_type": "stream",
     "text": [
      "2024-06-26 15:11:00,475 [INFO] config.py:139 -- Lithops v3.4.1 - Python3.10\n",
      "2024-06-26 15:11:00,494 [INFO] minio.py:62 -- MinIO client created - Endpoint: http://192.168.5.24:9000\n",
      "2024-06-26 15:11:00,524 [INFO] k8s.py:111 -- Kubernetes client created - Namespace: default\n",
      "2024-06-26 15:11:00,536 [INFO] minio.py:62 -- MinIO client created - Endpoint: http://192.168.5.24:9000\n",
      "2024-06-26 15:11:00,549 [INFO] invokers.py:107 -- ExecutorID 37a208-5 | JobID A000 - Selected Runtime: docker.io/ayman321/extractdysco3 - 8000MB\n"
     ]
    },
    {
     "name": "stdout",
     "output_type": "stream",
     "text": [
      "Initialized OutputS3 with bucket: os-10gb, key: 440531/TAR/imag_out/image, file_ext: None, file_name: image, remote_key_ow: None, base_local_path: /tmp\n",
      "Initialized InputS3 with bucket: os-10gb, key: 440531/TAR/applycal_out/ms, file_ext: None, dynamic: False, base_local_path: /tmp\n"
     ]
    },
    {
     "name": "stderr",
     "output_type": "stream",
     "text": [
      "2024-06-26 15:11:01,513 [INFO] invokers.py:174 -- ExecutorID 37a208-5 | JobID A000 - Starting function invocation: _execute_step() - Total: 1 activations\n",
      "2024-06-26 15:11:01,594 [INFO] invokers.py:213 -- ExecutorID 37a208-5 | JobID A000 - View execution logs at /tmp/lithops-ayman/logs/37a208-5-A000.log\n",
      "2024-06-26 15:11:01 [INFO] parameters: ['-size', '1024', '1024', '-pol', 'I', '-scale', '5arcmin', '-niter', '100000', '-gain', '0.1', '-mgain', '0.6', '-auto-mask', '5', '-local-rms', '-multiscale', '-no-update-model-required', '-make-psf', '-auto-threshold', '3', '-weight', 'briggs', '0', '-data-column', 'CORRECTED_DATA', '-nmiter', '0', '-name', OutputS3(bucket=os-10gb, key=440531/TAR/imag_out/image, file_ext=None, file_name=image, remote_key_ow=None, base_local_path=/tmp), '-j', '10']\n",
      "2024-06-26 15:11:01,599 [INFO] executors.py:491 -- ExecutorID 37a208-5 - Getting results from 1 function activations\n",
      "2024-06-26 15:11:01,600 [INFO] wait.py:101 -- ExecutorID 37a208-5 - Waiting for 1 function activations to complete\n",
      "2024-06-26 15:11:44,664 [INFO] executors.py:615 -- ExecutorID 37a208-5 - Cleaning temporary data\n",
      "2024-06-26 15:11:44 [INFO] TARGET Imaging completed in 44.195653676986694 seconds.\n"
     ]
    }
   ],
   "source": [
    "TARGET_imaging_params = [\n",
    "    \"-size\", \"1024\", \"1024\",\n",
    "    \"-pol\", \"I\",\n",
    "    \"-scale\", \"5arcmin\",\n",
    "    \"-niter\", \"100000\",\n",
    "    \"-gain\", \"0.1\",\n",
    "    \"-mgain\", \"0.6\",\n",
    "    \"-auto-mask\", \"5\",\n",
    "    \"-local-rms\",\n",
    "    \"-multiscale\",\n",
    "    \"-no-update-model-required\",\n",
    "    \"-make-psf\",\n",
    "    \"-auto-threshold\", \"3\",\n",
    "    \"-weight\", \"briggs\", \"0\",\n",
    "    \"-data-column\", \"CORRECTED_DATA\",\n",
    "    \"-nmiter\", \"0\",\n",
    "    \"-name\", OutputS3(\n",
    "        bucket=BUCKET,\n",
    "        key=prepend_hash_to_key(\"TAR/imag_out/\"),\n",
    "        file_name=\"image\"\n",
    "    ),\n",
    "]\n",
    "# TARGET IMAGING\n",
    "start_time = time.time()\n",
    "finished_job = ImagingStep(\n",
    "    input_data_path=InputS3(\n",
    "        bucket=BUCKET, key=prepend_hash_to_key(\"TAR/applycal_out/ms\")\n",
    "    ),\n",
    "    parameters=TARGET_imaging_params,\n",
    "    log_level=LOG_LEVEL\n",
    ").run()\n",
    "end_time = time.time()\n",
    "logger.info(f\"TARGET Imaging completed in {end_time - start_time} seconds.\")"
   ]
  },
  {
   "cell_type": "code",
   "execution_count": null,
   "metadata": {},
   "outputs": [],
   "source": []
  }
 ],
 "metadata": {
  "kernelspec": {
   "display_name": "Python 3",
   "language": "python",
   "name": "python3"
  },
  "language_info": {
   "codemirror_mode": {
    "name": "ipython",
    "version": 3
   },
   "file_extension": ".py",
   "mimetype": "text/x-python",
   "name": "python",
   "nbconvert_exporter": "python",
   "pygments_lexer": "ipython3",
   "version": "3.10.12"
  }
 },
 "nbformat": 4,
 "nbformat_minor": 2
}
